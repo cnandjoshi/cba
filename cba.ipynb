{
 "cells": [
  {
   "cell_type": "code",
   "execution_count": 2,
   "id": "22c33fdb-701d-4724-a6f7-6e24660e3234",
   "metadata": {},
   "outputs": [],
   "source": [
    "import requests\n",
    "import pandas as pd\n",
    "import re\n",
    "from collections import Counter"
   ]
  },
  {
   "cell_type": "code",
   "execution_count": 3,
   "id": "3902cfb4-4ca4-48c3-ab63-adf6ff6b229f",
   "metadata": {},
   "outputs": [],
   "source": [
    " API_KEY =
    " API_KEY_SECRET = 
    " BEARER_TOKEN = 
   ]
  },
  {
   "cell_type": "code",
   "execution_count": 9,
   "id": "33f9a56c-555c-460d-b897-e49cb682bb4a",
   "metadata": {},
   "outputs": [],
   "source": [
    "handle = \"CommBank\"\n",
    "url = f\"https://api.twitter.com/2/tweets/search/recent?query=from:{handle}&tweet.fields=created_at&expansions=author_id&user.fields=created_at\"\n",
    "headers ={\"Authorization\": \"Bearer {}\".format(BEARER_TOKEN)}"
   ]
  },
  {
   "cell_type": "code",
   "execution_count": 11,
   "id": "bcdd80bd-aa43-48ca-a26b-70b195ef0834",
   "metadata": {},
   "outputs": [
    {
     "name": "stdout",
     "output_type": "stream",
     "text": [
      "2025-03-01T10:40:52.000Z - @RensonSimon Hi Simon, feel free to reach out on a DM and I can lodge a complaint for you so your comments can be reported back the relevant management, and they know how you have been affected. ^Tiara\n",
      "\n",
      "2025-03-01T09:07:29.000Z - @RensonSimon Hi Simon, I have provided the link below with the changes to cryptocurrency and other payments purchases. Thanks, ^Tiara\n",
      "https://t.co/S4yG8l3zfc\n",
      "\n",
      "2025-02-28T05:41:51.000Z - @RobbieBarwick We paused the migration for all customers who made an assisted withdrawal over the last six months and we will communicate directly with these customers to help in relation to this change. Customer who don't make assisted withdrawals won't notice a difference. ^Mia 2/2\n",
      "\n",
      "2025-02-28T05:39:29.000Z - @RobbieBarwick Hi Robert, the fee is not new. We decided to close the Complete Access account in early 2025 and move 1m Complete Access customers to Australia’s most popular transaction banking account, Smart Access. \n",
      "The Smart Access account already has the $3 assisted fee.  1/2\n",
      "\n",
      "2025-02-27T07:27:00.000Z - @Batahjuliet Hi there, I have replied. ^Mia\n",
      "\n",
      "2025-02-27T06:55:16.000Z - @theotheragenda Hi there, I understand waiting on hold can be frustrating. Perhaps I can help, please send through a  DM and we can chat more about your enquiry. ^Mia\n",
      "\n",
      "2025-02-27T04:18:41.000Z - @andrewrdn463 Hi there, if you would like me to lodge a complaint for you so your comments can be reported back the relevant management, and they know how you have been affected feel free to reach out on a DM. ^Nat\n",
      "\n",
      "2025-02-27T01:46:39.000Z - @RomireTV Hi Romire, keeping your accounts safe and protecting you from fraud is our priority, which is why we want to make sure your information is up to date and accurate. More about this is available here: https://t.co/9m5hisPubF ^Chris\n",
      "\n",
      "2025-02-26T06:13:55.000Z - @BolinogasJ Hi there, It sounds like you have had a terrible experience, I'm keen to understand more. Can you send me a DM and we can chat there.^Sara\n",
      "\n",
      "2025-02-26T03:16:20.000Z - *Figures for information only, your interest rate may differ.\n",
      "\n",
      "2025-02-26T03:16:19.000Z - We’ve put together a guide to help you quickly understand how a 0.25% interest rate decrease might affect your home loan repayments if you have a principal and interest home loan at a standard variable rate of 6.34% p.a.* on a 30-year loan team assuming monthly repayments🏡 https://t.co/BPViXN0Rkw\n",
      "\n",
      "2025-02-25T22:53:19.000Z - @redruby17 Hi there, I understand your concerns and it is best to speak to one of our Home Loan specialists to discuss into further details and provide more clarification on 13 2224. ^Dru\n",
      "\n",
      "2025-02-24T23:06:47.000Z - @peterwallhead Hi there Peter, that is a great idea I will pass this onto the relevant management. ^Nat\n",
      "\n"
     ]
    }
   ],
   "source": [
    "import requests\n",
    "\n",
    "BEARER_TOKEN = \"AAAAAAAAAAAAAAAAAAAAAPJ7zgEAAAAAEidwXuaXIlKHGRFWtBR0g9sV1Dc%3DpRDutuLg97rLgdLG9FHsuhyyXxHgudKH9iWgmjt74GqOCHtCcx\"\n",
    "\n",
    "handle = \"CommBank\"\n",
    "url = f\"https://api.twitter.com/2/tweets/search/recent?query=from:{handle}&tweet.fields=created_at&expansions=author_id&user.fields=created_at&max_results=100\"\n",
    "\n",
    "headers = {\"Authorization\": f\"Bearer {BEARER_TOKEN}\"}\n",
    "\n",
    "def fetch_tweets(url, headers):\n",
    "    \"\"\"Fetch the most recent 100 tweets from the specified Twitter handle.\"\"\"\n",
    "    response = requests.get(url, headers=headers)\n",
    "\n",
    "    if response.status_code == 200:\n",
    "        data = response.json()\n",
    "        tweets = data.get(\"data\", [])\n",
    "        return tweets\n",
    "    else:\n",
    "        print(f\"Error: {response.status_code}, {response.text}\")\n",
    "        return []\n",
    "\n",
    "# Fetch tweets\n",
    "tweets = fetch_tweets(url, headers)\n",
    "\n",
    "# Display results\n",
    "if tweets:\n",
    "    for tweet in tweets:\n",
    "        print(f\"{tweet['created_at']} - {tweet['text']}\\n\")\n",
    "else:\n",
    "    print(\"No tweets found.\")\n"
   ]
  },
  {
   "cell_type": "code",
   "execution_count": 25,
   "id": "3e8d139d-a2f4-44b8-82ca-a5e2617da305",
   "metadata": {},
   "outputs": [],
   "source": [
    "df = pd.DataFrame(tweets)\n",
    "\n",
    "# Save DataFrame to CSV\n",
    "df.to_csv(\"cba_tweets.csv\", index=False)"
   ]
  },
  {
   "cell_type": "code",
   "execution_count": null,
   "id": "a6383a11-5dd8-4f9d-8e75-bb176ec9d3a4",
   "metadata": {},
   "outputs": [],
   "source": []
  }
 ],
 "metadata": {
  "kernelspec": {
   "display_name": "Python 3 (ipykernel)",
   "language": "python",
   "name": "python3"
  },
  "language_info": {
   "codemirror_mode": {
    "name": "ipython",
    "version": 3
   },
   "file_extension": ".py",
   "mimetype": "text/x-python",
   "name": "python",
   "nbconvert_exporter": "python",
   "pygments_lexer": "ipython3",
   "version": "3.13.1"
  }
 },
 "nbformat": 4,
 "nbformat_minor": 5
}
